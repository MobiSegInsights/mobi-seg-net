{
 "cells": [
  {
   "metadata": {},
   "cell_type": "markdown",
   "source": "## Focus on geolocations in specific cities",
   "id": "d0c1de0adf63f90c"
  },
  {
   "metadata": {
    "ExecuteTime": {
     "end_time": "2025-02-25T16:33:36.597475Z",
     "start_time": "2025-02-25T16:33:36.489861Z"
    }
   },
   "cell_type": "code",
   "source": [
    "%load_ext autoreload\n",
    "%autoreload 2\n",
    "%cd D:\\mobi-seg-net"
   ],
   "id": "72e6fb77c09f658b",
   "outputs": [
    {
     "name": "stdout",
     "output_type": "stream",
     "text": [
      "D:\\mobi-seg-net\n"
     ]
    }
   ],
   "execution_count": 2
  },
  {
   "metadata": {
    "ExecuteTime": {
     "end_time": "2025-02-25T16:33:37.255299Z",
     "start_time": "2025-02-25T16:33:37.050131Z"
    }
   },
   "cell_type": "code",
   "source": [
    "import pandas as pd\n",
    "import numpy as np\n",
    "import os\n",
    "os.environ['JAVA_HOME'] = \"C:/Java/jdk-1.8\"\n",
    "from tqdm import tqdm\n",
    "import sqlalchemy\n",
    "from lib import workers as workers\n",
    "import matplotlib.pyplot as plt"
   ],
   "id": "de5ce74aa13cf940",
   "outputs": [],
   "execution_count": 3
  },
  {
   "metadata": {
    "ExecuteTime": {
     "end_time": "2025-02-25T16:33:37.334501Z",
     "start_time": "2025-02-25T16:33:37.269702Z"
    }
   },
   "cell_type": "code",
   "source": [
    "def within_box(lat, lng):\n",
    "    if (lat >= workers.stockholm_box[1]) & (lat <= workers.stockholm_box[3]):\n",
    "        if (lng >= workers.stockholm_box[0]) & (lng <= workers.stockholm_box[2]):\n",
    "            return 1\n",
    "    return 0"
   ],
   "id": "d78875c9abbd1cfa",
   "outputs": [],
   "execution_count": 4
  },
  {
   "metadata": {
    "ExecuteTime": {
     "end_time": "2025-02-25T16:47:59.606444Z",
     "start_time": "2025-02-25T16:36:31.238805Z"
    }
   },
   "cell_type": "code",
   "source": [
    "df_stops_list = []\n",
    "for i in tqdm(range(0, 50), desc=\"Filtering data\"):\n",
    "    df_stops = pd.read_parquet(f\"dbs/stops_pr/stops_pr_{i}.parquet\", columns=['device_aid', 'h3_id', 'home', 'kind', 'latitude', 'longitude'])\n",
    "    df_stops = df_stops[df_stops['home']!=1]\n",
    "    df_stops.loc[:, 'Stockholm'] = df_stops.apply(lambda row: within_box(row['latitude'], row['longitude']), axis=1)\n",
    "    df_stops = df_stops.loc[df_stops['Stockholm'] == 1, :].drop(columns=['Stockholm', 'latitude', 'longitude'])\n",
    "    df_stops_list.append(df_stops)"
   ],
   "id": "bfa06a010a714e85",
   "outputs": [
    {
     "name": "stderr",
     "output_type": "stream",
     "text": [
      "Filtering data: 100%|██████████| 50/50 [11:28<00:00, 13.77s/it]\n"
     ]
    }
   ],
   "execution_count": 8
  },
  {
   "metadata": {
    "ExecuteTime": {
     "end_time": "2025-02-25T18:56:12.321648Z",
     "start_time": "2025-02-25T18:56:08.999475Z"
    }
   },
   "cell_type": "code",
   "source": [
    "df_stops = pd.concat(df_stops_list)\n",
    "df_stops.drop(columns=['home'], inplace=True)\n",
    "print(len(df_stops), df_stops.device_aid.nunique())"
   ],
   "id": "f569070d93ac7450",
   "outputs": [
    {
     "name": "stdout",
     "output_type": "stream",
     "text": [
      "24609483 941746\n"
     ]
    }
   ],
   "execution_count": 9
  },
  {
   "metadata": {
    "ExecuteTime": {
     "end_time": "2025-02-25T18:59:29.800786Z",
     "start_time": "2025-02-25T18:58:43.246615Z"
    }
   },
   "cell_type": "code",
   "source": "df_stops.to_parquet('dbs/cities/stockholm.parquet', index=False)",
   "id": "f58174b24fce2566",
   "outputs": [],
   "execution_count": 13
  }
 ],
 "metadata": {
  "kernelspec": {
   "display_name": "Python 3",
   "language": "python",
   "name": "python3"
  },
  "language_info": {
   "codemirror_mode": {
    "name": "ipython",
    "version": 2
   },
   "file_extension": ".py",
   "mimetype": "text/x-python",
   "name": "python",
   "nbconvert_exporter": "python",
   "pygments_lexer": "ipython2",
   "version": "2.7.6"
  }
 },
 "nbformat": 4,
 "nbformat_minor": 5
}
